{
 "cells": [
  {
   "cell_type": "markdown",
   "metadata": {},
   "source": [
    "## Import Data via Yaml"
   ]
  },
  {
   "cell_type": "code",
   "execution_count": 21,
   "metadata": {
    "ExecuteTime": {
     "end_time": "2021-01-31T15:30:56.089143Z",
     "start_time": "2021-01-31T15:30:56.085257Z"
    }
   },
   "outputs": [],
   "source": [
    "import yaml\n",
    "with open(r'postgres.yaml') as file:\n",
    "    psql = yaml.full_load(file)"
   ]
  },
  {
   "cell_type": "code",
   "execution_count": 22,
   "metadata": {
    "ExecuteTime": {
     "end_time": "2021-01-31T15:30:58.271178Z",
     "start_time": "2021-01-31T15:30:58.267638Z"
    }
   },
   "outputs": [
    {
     "data": {
      "text/plain": [
       "{'host': 'localhost', 'database': 'nba', 'user': 'samivanecky', 'port': 5432}"
      ]
     },
     "execution_count": 22,
     "metadata": {},
     "output_type": "execute_result"
    }
   ],
   "source": [
    "psql"
   ]
  },
  {
   "cell_type": "markdown",
   "metadata": {},
   "source": [
    "## Import Libraries"
   ]
  },
  {
   "cell_type": "code",
   "execution_count": 23,
   "metadata": {
    "ExecuteTime": {
     "end_time": "2021-01-31T15:31:44.206242Z",
     "start_time": "2021-01-31T15:31:44.178461Z"
    }
   },
   "outputs": [],
   "source": [
    "import pandas as pd\n",
    "import numpy as np\n",
    "import datetime as dt\n",
    "import os\n",
    "import json\n",
    "import nba_api\n",
    "import requests\n",
    "import seaborn as sns\n",
    "from nba_api.stats.static import teams\n",
    "from nba_api.stats.endpoints import leaguegamefinder\n",
    "import psycopg2\n",
    "from sqlalchemy import create_engine\n",
    "\n",
    "pd.options.mode.chained_assignment = None \n",
    "\n",
    "# Connect to postgres\n",
    "conn = psycopg2.connect(\n",
    "    host=psql['host'],\n",
    "    database=psql['database'],\n",
    "    user=psql['user'],\n",
    "    port=psql['port'])"
   ]
  },
  {
   "cell_type": "markdown",
   "metadata": {},
   "source": [
    "## Data Setup"
   ]
  },
  {
   "cell_type": "markdown",
   "metadata": {},
   "source": [
    "### Get NBA Teams"
   ]
  },
  {
   "cell_type": "code",
   "execution_count": 24,
   "metadata": {
    "ExecuteTime": {
     "end_time": "2021-01-31T15:31:47.330574Z",
     "start_time": "2021-01-31T15:31:47.328112Z"
    }
   },
   "outputs": [],
   "source": [
    "# Get teams\n",
    "nba_teams = teams.get_teams()"
   ]
  },
  {
   "cell_type": "code",
   "execution_count": 25,
   "metadata": {
    "ExecuteTime": {
     "end_time": "2021-01-31T15:32:16.772378Z",
     "start_time": "2021-01-31T15:31:50.828530Z"
    }
   },
   "outputs": [],
   "source": [
    "# Loop over teams and get games for each team abbreviation (max 30k per team)\n",
    "for team in nba_teams:\n",
    "    # If games has already been created\n",
    "    try:\n",
    "        gamefinder = leaguegamefinder.LeagueGameFinder(team_id_nullable=team['id'])\n",
    "        # The first DataFrame of those returned is what we want.\n",
    "        games = games.append(gamefinder.get_data_frames()[0])\n",
    "    except:\n",
    "        # Get the games\n",
    "        gamefinder = leaguegamefinder.LeagueGameFinder(team_id_nullable=team['id'])\n",
    "        # Get games in dataframe format\n",
    "        games = gamefinder.get_data_frames()[0]"
   ]
  },
  {
   "cell_type": "markdown",
   "metadata": {},
   "source": [
    "### Variable Manipulation"
   ]
  },
  {
   "cell_type": "code",
   "execution_count": 26,
   "metadata": {
    "ExecuteTime": {
     "end_time": "2021-01-31T15:35:45.921143Z",
     "start_time": "2021-01-31T15:35:45.674361Z"
    }
   },
   "outputs": [],
   "source": [
    "# Create season and opponent variables\n",
    "games['SEASON_ID'] = games['SEASON_ID'].str[-4:]\n",
    "games['OPP'] = games['MATCHUP'].str[-3:]"
   ]
  },
  {
   "cell_type": "markdown",
   "metadata": {},
   "source": [
    "## Write to Postgres"
   ]
  },
  {
   "cell_type": "code",
   "execution_count": 27,
   "metadata": {
    "ExecuteTime": {
     "end_time": "2021-01-31T15:37:04.828928Z",
     "start_time": "2021-01-31T15:37:04.795503Z"
    }
   },
   "outputs": [],
   "source": [
    "# Create engine string\n",
    "connect_str = 'postgresql+psycopg2://' + psql['user'] + '@' + psql['host'] + '/' + psql['database'] \n",
    "\n",
    "# Create engine connection\n",
    "engine = create_engine(connect_str)\n",
    "\n",
    "c = engine.connect()\n",
    "conn = c.connection"
   ]
  },
  {
   "cell_type": "code",
   "execution_count": 28,
   "metadata": {
    "ExecuteTime": {
     "end_time": "2021-01-31T15:38:00.681930Z",
     "start_time": "2021-01-31T15:37:07.484466Z"
    },
    "scrolled": true
   },
   "outputs": [],
   "source": [
    "games.to_sql('games', engine, if_exists='replace')"
   ]
  }
 ],
 "metadata": {
  "kernelspec": {
   "display_name": "Python 3.7.6 64-bit ('venv': conda)",
   "language": "python",
   "name": "python37664bitvenvconda188ec0fd2fb049c680f70801f78872a1"
  },
  "language_info": {
   "codemirror_mode": {
    "name": "ipython",
    "version": 3
   },
   "file_extension": ".py",
   "mimetype": "text/x-python",
   "name": "python",
   "nbconvert_exporter": "python",
   "pygments_lexer": "ipython3",
   "version": "3.7.6"
  },
  "varInspector": {
   "cols": {
    "lenName": 16,
    "lenType": 16,
    "lenVar": 40
   },
   "kernels_config": {
    "python": {
     "delete_cmd_postfix": "",
     "delete_cmd_prefix": "del ",
     "library": "var_list.py",
     "varRefreshCmd": "print(var_dic_list())"
    },
    "r": {
     "delete_cmd_postfix": ") ",
     "delete_cmd_prefix": "rm(",
     "library": "var_list.r",
     "varRefreshCmd": "cat(var_dic_list()) "
    }
   },
   "types_to_exclude": [
    "module",
    "function",
    "builtin_function_or_method",
    "instance",
    "_Feature"
   ],
   "window_display": false
  }
 },
 "nbformat": 4,
 "nbformat_minor": 4
}
